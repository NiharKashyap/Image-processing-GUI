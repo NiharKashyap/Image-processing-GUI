{
 "cells": [
  {
   "cell_type": "code",
   "execution_count": 16,
   "metadata": {},
   "outputs": [
    {
     "ename": "IndexError",
     "evalue": "tuple index out of range",
     "output_type": "error",
     "traceback": [
      "\u001b[1;31m---------------------------------------------------------------------------\u001b[0m",
      "\u001b[1;31mIndexError\u001b[0m                                Traceback (most recent call last)",
      "\u001b[1;32m<ipython-input-16-b4ded8ada4a3>\u001b[0m in \u001b[0;36m<module>\u001b[1;34m\u001b[0m\n\u001b[0;32m     13\u001b[0m \u001b[0mimg1\u001b[0m\u001b[1;33m=\u001b[0m\u001b[0mimg\u001b[0m\u001b[1;33m.\u001b[0m\u001b[0mcopy\u001b[0m\u001b[1;33m(\u001b[0m\u001b[1;33m)\u001b[0m\u001b[1;33m\u001b[0m\u001b[1;33m\u001b[0m\u001b[0m\n\u001b[0;32m     14\u001b[0m \u001b[1;33m\u001b[0m\u001b[0m\n\u001b[1;32m---> 15\u001b[1;33m \u001b[0meye\u001b[0m\u001b[1;33m=\u001b[0m\u001b[0meye_cascade\u001b[0m\u001b[1;33m.\u001b[0m\u001b[0mdetectMultiScale\u001b[0m\u001b[1;33m(\u001b[0m\u001b[0mimg\u001b[0m\u001b[1;33m)\u001b[0m\u001b[1;33m[\u001b[0m\u001b[1;36m0\u001b[0m\u001b[1;33m]\u001b[0m\u001b[1;33m\u001b[0m\u001b[1;33m\u001b[0m\u001b[0m\n\u001b[0m\u001b[0;32m     16\u001b[0m \u001b[0mprint\u001b[0m \u001b[1;33m(\u001b[0m\u001b[0meye\u001b[0m\u001b[1;33m)\u001b[0m\u001b[1;33m\u001b[0m\u001b[1;33m\u001b[0m\u001b[0m\n\u001b[0;32m     17\u001b[0m \u001b[1;33m\u001b[0m\u001b[0m\n",
      "\u001b[1;31mIndexError\u001b[0m: tuple index out of range"
     ]
    }
   ],
   "source": [
    "import numpy as np\n",
    "import matplotlib.pyplot as plt\n",
    "import cv2\n",
    "\n",
    "\n",
    "eye_cascade = cv2.CascadeClassifier(\"frontalEyes35x16.xml\")\n",
    "\n",
    "\n",
    "#img=plt.imread(\"Hermione1.jpg\")\n",
    "img=plt.imread(\"pb.jpg\")\n",
    "\n",
    "\n",
    "img1=img.copy()\n",
    "\n",
    "eye=eye_cascade.detectMultiScale(img)[0]\n",
    "print (eye)\n",
    "\n",
    "\n",
    "eye_x,eye_y,eye_w, eye_h= eye\n",
    "img = cv2.rectangle(img, (eye_x, eye_y), (eye_x + eye_w, eye_y + eye_h), (255,255,255), 5 )\n",
    "\n",
    "\n",
    "glasses=plt.imread(\"sample1.png\")\n",
    "\n",
    "\n",
    "\n",
    "glasses=cv2.resize(glasses,(eye_w+50,eye_h+55))\n",
    "\n",
    "\n",
    "\n",
    "for i in range(glasses.shape[0]):\n",
    "  for j in range(glasses.shape[1]):\n",
    "  \tif (glasses[i,j,3]>0):\n",
    "  \t\timg1[eye_y+i-20,eye_x+j-23, :]=glasses[i,j,:-1]\n",
    "\n",
    "\n",
    "plt.imshow(img1)"
   ]
  },
  {
   "cell_type": "code",
   "execution_count": null,
   "metadata": {},
   "outputs": [],
   "source": [
    "'''\n",
    "\n",
    "x_offset = eye_x\n",
    "y_offset = eye_y\n",
    "\n",
    "\n",
    "x_end = x_offset + glasses.shape[1]\n",
    "y_end = y_offset + glasses.shape[0]\n",
    "\n",
    "\n",
    "img1[y_offset:y_end,x_offset:x_end] = glasses\n",
    "'''"
   ]
  }
 ],
 "metadata": {
  "kernelspec": {
   "display_name": "Python 3",
   "language": "python",
   "name": "python3"
  },
  "language_info": {
   "codemirror_mode": {
    "name": "ipython",
    "version": 3
   },
   "file_extension": ".py",
   "mimetype": "text/x-python",
   "name": "python",
   "nbconvert_exporter": "python",
   "pygments_lexer": "ipython3",
   "version": "3.7.3"
  }
 },
 "nbformat": 4,
 "nbformat_minor": 4
}
